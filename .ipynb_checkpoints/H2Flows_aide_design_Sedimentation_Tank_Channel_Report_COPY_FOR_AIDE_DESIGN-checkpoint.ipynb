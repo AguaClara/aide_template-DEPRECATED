{
 "cells": [
  {
   "cell_type": "markdown",
   "metadata": {},
   "source": [
    "# H2Flows Capstone Design: Sedimentation Tank Channel\n",
    "\n",
    "## H2Flows members:  Mehrin Selimgir, Linping Xu, Shuo Han\n",
    "\n"
   ]
  },
  {
   "cell_type": "markdown",
   "metadata": {},
   "source": [
    "## Introduction\n",
    "\n",
    "In this design, our goal is to create a four channel design algorithms for AguaClara sedimentation tank in Python.\n",
    " \n",
    "An AguaClara channel design algorithm has already been created on MathCAD. Thus, the primary basis of our design approach is based on this original MathCAD code as well as coding tools in aide_design package. For the benefit of future design work of AguaClara team, this project is to create a model that could quickly respond to the change of design parameters like flow rate, the size of the sedimentation tanks and filter tanks etc, but also could guarantee the treatment performance at the same time.\n",
    "\n",
    "The following image is the planview of the sedimentation tank and its inlet and out channels:\n",
    "\n",
    "\n",
    "<img src=\"Sedimentation%20tank%20overview.png\" alt=\"Drawing\" style=\"width: 800px;\"/>\n",
    "\n",
    "<center>Figure 1. Sedimentation tank overview</center>\n",
    "\n",
    "\n",
    "\n",
    "<img src=\"Channels.png\" alt=\"Drawing\" style=\"width: 800px;\"/>\n",
    "                                      \n",
    "<center>Figure 2. Channels</center>\n",
    "\n",
    "\n",
    "\n",
    "<img src=\"Channels%20Naming.png\" alt=\"Drawing\" style=\"width: 800px;\"/>\n",
    "\n",
    "<center>Figure 3. Channels Naming</center>\n",
    "\n",
    "\n",
    "\n",
    "\n",
    "Figure 3 elucidates the four channels we are designing in our project. The effluent from flocculation tank comes in from the left side of inlet channel pre weir, and goes into the manifolds through the pipe shown in Figure 3. Inlet channel post weir is used to drain the poorly flocculated water when flocculation is not performing well. Exit channel pre weir is to collect the clean water from the exit launder, and effluent water overflow into post weir to get collected.\n",
    "\n",
    "\n",
    "\n",
    "\n",
    "\n",
    "\n",
    "## Design Constraints:\n",
    "* Varying Flow rates [6,60] L/s\n",
    "\n",
    "* Velocity constraints for inlet channel:\n",
    "    - Ensure flocs don’t drop (0.15m/s), this would be our lower bound of velocity design, Vmin\n",
    "    - Distribute the water uniformly - This would be our higher bound of velocity design, Vmax\n",
    "\n",
    "\n",
    "\n",
    "## Governing Constraints of the Four Channels\n",
    "* The width of the inlet channel pre weir is constrained by the maximum inlet channel headloss and flow condition.\n",
    "* The width of the inlet channel post weir is constrained by the headloss (Pressure Recovery) and the minimum channel width that is predefined(15cm).\n",
    "* The width of the exit channel pre weir is constrained by the minimum channel width that is predefined (15 cm).\n",
    "* The width of the exit channel post weir is constrained by the headloss and the minimum width that is predefined (15 cm).\n",
    "\n",
    "## Design Algorithm\n",
    "###### Below is a general outline of our design procedure for the four channels. \n",
    "###### More detailed, step-by-step explanation, as well as the equations  for our calculations/process are embedded in our code.\n",
    "\n",
    "\n",
    "### Steps for Inlet Channel \n",
    "1. Start with expert inputs of sedimentation tanks, width of sedimentation tank, thickness of sedimentation wall, and thickness of dividing wall to calculate the length of the 4 sedimentation channels. \n",
    "2. Calculate headloss of inlet channel pre weir.\n",
    "3. Calculate the width of the inlet channel pre weir\n",
    "4. Calculate height of water inlet channel and adding freeboard height \n",
    "5. Calculate the width of the inlet channel post weir\n",
    "6. Calculate the velocity of the inlet channel\n",
    "7. Select drain pipe\n",
    "8. Calculate the width of the drain box \n",
    "\n",
    "\n",
    "### Steps for Exit Channel \n",
    "1. Calculate the height of the exit channel \n",
    "2. Calculate the water level in exit channel and the exit weir\n",
    "3. Calculate the width of the exit channel pre weir \n",
    "4. Calculate the width of the exit channel post weir \n",
    "5. Calculate the total width of the exit channel \n",
    "6. Calculate the width of the exit channel drain box \n"
   ]
  },
  {
   "cell_type": "code",
   "execution_count": 1,
   "metadata": {
    "collapsed": true
   },
   "outputs": [],
   "source": [
    "from aide_design import floc_model as floc\n",
    "from aide_design.play import*\n",
    "from aide_design import floc_model as floc\n",
    "#from pytexit import py2tex\n",
    "\n",
    "#Below are the items that were imported by the code above so that you know what abbreviations to use in your code.\n",
    "\n",
    "# Third-party imports\n",
    "#import numpy as np\n",
    "#import pandas as pd\n",
    "#import matplotlib.pyplot as plt\n",
    "#import matplotlib\n",
    "\n",
    "# AIDE imports\n",
    "#import aide_design\n",
    "#import aide_design.pipedatabase as pipe\n",
    "#from aide_design.units import unit_registry as u\n",
    "#from aide_design import physchem as pc\n",
    "#import aide_design.expert_inputs as exp\n",
    "#import aide_design.materials_database as mat\n",
    "#import aide_design.utility as ut\n",
    "#import aide_design.k_value_of_reductions_utility as k\n",
    "#import aide_design.pipeline_utility as pipeline\n",
    "#import warnings"
   ]
  },
  {
   "cell_type": "markdown",
   "metadata": {},
   "source": [
    "## Design Input Variables\n"
   ]
  },
  {
   "cell_type": "markdown",
   "metadata": {
    "collapsed": true
   },
   "source": [
    "All of the inputs to be used to calculate the constant sed unit length were maximums found in Mathcad."
   ]
  },
  {
   "cell_type": "code",
   "execution_count": 2,
   "metadata": {
    "collapsed": true
   },
   "outputs": [],
   "source": [
    "# Width of Sedimentation Tank \n",
    "W_Sed= 42*u.inch\n",
    "\n",
    "# Thickness of Sedimentation Wall \n",
    "T_SedWall= 15*u.cm\n",
    "\n",
    "# Thickness of Sedimentation Dividing Wall \n",
    "T_SedDividingWall= 15*(u.cm)\n",
    "\n",
    "# Q_Plant=flowrate coming out of the sedimentation tank = influent flow rate \n",
    "Q_Plant=60*( u.L/u.s)\n",
    "\n",
    "# The ratio of the height to the width\n",
    "Pi_QSedTanks=0.95\n",
    "\n",
    "# The headloss for which the launders were designed to ensure uniform flow between sed tanks\n",
    "HL_SedLaunderBod=4*u.cm # correct\n",
    "\n",
    "# Headloss for which the diffusers were designed to ensure uniform flow between sed tanks \n",
    "HL_SedDiffuser=0.001*u.m # correct\n",
    "\n",
    "# A dimensionaless constant value for the sed diffusers? \n",
    "SedDiffuser=0.2 # don't think this is needed\n",
    "\n",
    "# Nominal diameter of the Sedimentation tank Manifold # this value was changed from the report that was submitted\n",
    "ND_SedManifoldMax = 8* u.inch # correct\n",
    "\n",
    "# we will use the maximum diameters for manifold and launder values to calculate channel width\n",
    "# Use ID.Manifold, D.Manifold, and ND.Manifold functions in Mathcad FluidsFunctions files\n",
    "\n",
    "\n",
    "# Minimum spacing between the outside of a pipe coupling that is embedded in concrete and the \n",
    "#nearest wall or weir.\n",
    "S_Fitting=5*u.cm # correct (not included in sed.yaml constants yet)\n",
    "\n",
    "# Max Height of water in sedimentation inlet channel \n",
    "# Relaxed from 35cm to 50cm\n",
    "HW_SedInletChannelMax=50*u.cm # correct (not included in sed.yaml constants yet)\n",
    "\n",
    "\n",
    "#---- we will need to vary this\n",
    "T_design = 10*u.degC\n",
    "#----\n",
    "\n",
    "\n",
    "# Friction coefficient of concrete\n",
    "E_Concrete = 0.01*u.m\n",
    "\n",
    "\n",
    "# Nominal diameter of sed launder # this is was changed from 1 inch to 6 inches for the current typical tank (this will not be constant but we are trying to get the typical value for now)\n",
    "ND_SedLaunder = 6*u.inch # this should be calculated using the fluids function for manifold in Sedimentation Tank.xmcd (the pipe will scale with sed tank width and flow rate)\n",
    "\n",
    "# The height of the plant free board\n",
    "H_PlantFreeboard = 0.1*u.m # correct\n",
    "\n",
    "# The height of the weir in the inlet channel\n",
    "H_SedWeirInlet=50*u.cm # changed from 52 to 50 based on mathcad constants (this value is a maximum)\n",
    "\n",
    "# The height of the free board of the exit channel \n",
    "HL_SedWeirFreeboard=2*u.cm # this was changed from 5 to 2 based on constants put in mathcad\n",
    "\n",
    "# The narrowest channel that a mason can construct if the channel is not deeper than \n",
    "# about 50 cm\n",
    "# We assume here that the depth of channels would not exceed 50 cm, the result should be \n",
    "# examined later\n",
    "W_ChannelMin=15*u.cm\n",
    "\n",
    "#maximum value was taken. It is calculated in Sedimentation Tank.xmcd and will need to be included in sed_channel.py calculations\n",
    "# The nominal diameter of the pipe from sed tank to filter\n",
    "ND_SedToFiPipe=8*u.inch\n",
    "\n",
    "# The thickness of sed tank weir\n",
    "T_SedWeir=5*u.cm  # this was changed from 8 to 5 based on constants.py\n",
    "\n",
    "# SDR of the drain pipe\n",
    "SDR=26 # correct, need to add to sed.yaml\n",
    "\n",
    "HW_SedEst=2*u.m # correct\n",
    "\n",
    "# The height of the exit channel free board\n",
    "H_SedExitFree=5*u.cm # correct, need to add to sed.yaml\n",
    "\n",
    "#minor loss coefficients\n",
    "K_PipeEnt=0.5\n",
    "K_E190=0.9\n",
    "K_PipeExit=1\n",
    "\n",
    "\n",
    "K=0\n",
    "\n",
    "# Boolean type variables to determine whether the channel is an open channel\n",
    "openchannel=True\n",
    "closedchannel=False"
   ]
  },
  {
   "cell_type": "code",
   "execution_count": 3,
   "metadata": {},
   "outputs": [
    {
     "name": "stdout",
     "output_type": "stream",
     "text": [
      "10\n"
     ]
    }
   ],
   "source": [
    "w_tank = 42 * u.inch\n",
    "L_upflow_max = 5.8 * u.m\n",
    "VEL_SED_UP_BOD = 1 * u.mm/u.s\n",
    "\n",
    "def n_tanks(q_plant):\n",
    "    q_tank_max = L_upflow_max * VEL_SED_UP_BOD * w_tank\n",
    "    return (int(np.ceil(q_plant.to(u.m**3/u.s) / q_tank_max.to(u.m**3/u.s))))\n",
    "\n",
    "N_SedTanks=n_tanks(Q_Plant)\n",
    "print(N_SedTanks)"
   ]
  },
  {
   "cell_type": "markdown",
   "metadata": {},
   "source": [
    "## Conclusion\n",
    "We want to look into how the total width of the four channels will change when increasing the flow rate, our goal is to evaluate the effect of future flow rate increase on current drinking water design. In real engineering design, especially for the global South, it is critical to take cost into consideration. Ideally our design should be able to handle future flow rate as high as 60 L/s, but if the construction cost is too high, the design might not be feasible for local people. We assume that the cost of construction is proportional to the total width, and the results of our codes from different flow rate are as follows:\n",
    "\n",
    "( Following results are based on assumption of legitimate number of sedimentation tanks with other input variables remain all the same.)\n",
    "\n",
    "| Flow Rate (L/s) | Number of Sed Tanks | Total Width (cm)   |\n",
    "|:---------------:|:-------------------:|:------------------:|\n",
    "|   24  | 4| 92.77|\n",
    "|   36  | 6| 109.3|\n",
    "|   60  | 6| 128.3|\n",
    "\n",
    "The numbers above provide a rough idea about the scale of increase in total width, apparently, it doesn't go proportionally with the increase in flow rate. Thus, our suggestion for design team is that, it is feasible to appropriately increase the total width within the financial ability to accommodate future demand. However, more accurate calculation should be done using different sets of real expert inputs.\n",
    "\n"
   ]
  },
  {
   "cell_type": "markdown",
   "metadata": {},
   "source": [
    "# Step 1: Design of Inlet Channel"
   ]
  },
  {
   "cell_type": "markdown",
   "metadata": {},
   "source": [
    "## 1.1 The length of the sedimentation tank channel\n"
   ]
  },
  {
   "cell_type": "code",
   "execution_count": 4,
   "metadata": {},
   "outputs": [
    {
     "name": "stdout",
     "output_type": "stream",
     "text": [
      "The length of the sedimentation tank channel is  12.17 meter\n"
     ]
    }
   ],
   "source": [
    "L_SedChannel=N_SedTanks * W_Sed + T_SedWall + (N_SedTanks-1)*T_SedDividingWall\n",
    "#py2tex('L_SedChannel=N_SedTanks*W_Sed+T_SedWall+(N_SedTanks-1)*T_SedDividingWall')\n",
    "print('The length of the sedimentation tank channel is ',L_SedChannel.to(u.m))"
   ]
  },
  {
   "cell_type": "markdown",
   "metadata": {},
   "source": [
    "## 1.2 The headloss of exit channel pre weir\n"
   ]
  },
  {
   "cell_type": "code",
   "execution_count": 5,
   "metadata": {},
   "outputs": [
    {
     "name": "stdout",
     "output_type": "stream",
     "text": [
      "The headloss of the exit channel pre weir is  1.915 centimeter\n"
     ]
    }
   ],
   "source": [
    "# Headloss of the sedimentation tank weir exit\n",
    "# Old MathCAD code: HL_SedWeirExit=Headloss_weir(Q_Train,L_SedChannel)\n",
    "# This function is defined in physchem functions as \"pc.headloss_weir\"\n",
    "HL_SedWeirExit=pc.headloss_weir(Q_Plant, L_SedChannel)\n",
    "print('The headloss of the exit channel pre weir is ',HL_SedWeirExit.to(u.cm))"
   ]
  },
  {
   "cell_type": "markdown",
   "metadata": {},
   "source": [
    "## 1.3 The maximum headloss of the inlet channels\n"
   ]
  },
  {
   "cell_type": "code",
   "execution_count": 6,
   "metadata": {},
   "outputs": [
    {
     "name": "stdout",
     "output_type": "stream",
     "text": [
      "The maximum headloss of the inlet channel is  0.3998 centimeter\n"
     ]
    }
   ],
   "source": [
    "# The maximum headloss of the inlet channel\n",
    "HL_SedInletChannelMax=(HL_SedLaunderBod+HL_SedDiffuser)*(1-Pi_QSedTanks**2)\n",
    "#py2tex('HL_SedInletChannelMax=(HL_SedLaunderBod+HL_SedDiffuser)*(1-Pi_QSedTanks**2)')\n",
    "print('The maximum headloss of the inlet channel is ',HL_SedInletChannelMax)"
   ]
  },
  {
   "cell_type": "markdown",
   "metadata": {},
   "source": [
    "## 1.4 The minimum width of inlet channel pre weir via plumbing \n"
   ]
  },
  {
   "cell_type": "code",
   "execution_count": 7,
   "metadata": {
    "scrolled": true
   },
   "outputs": [
    {
     "name": "stdout",
     "output_type": "stream",
     "text": [
      "The minimum width of the inlet channel pre weir via plumbing is  31.91 centimeter\n"
     ]
    }
   ],
   "source": [
    "# Width of the Inlet Channel Sedimentation Tank Weir calculated based on \"plumbing\"- \n",
    "# Minimum value of the width of the Weir so that the manifold may fit in\n",
    "# Note variable name change here\n",
    "Min_W_SedInletChannelWeir= pipe.OD(ND_SedManifoldMax)+2*S_Fitting\n",
    "\n",
    "print('The minimum width of the inlet channel pre weir via plumbing is ',Min_W_SedInletChannelWeir.to(u.cm))\n"
   ]
  },
  {
   "cell_type": "markdown",
   "metadata": {},
   "source": [
    "## 1.5 The minimum width of the inlet channel pre weir via headloss\n"
   ]
  },
  {
   "cell_type": "markdown",
   "metadata": {},
   "source": [
    "The original MathCAD equation for calculating the width of the weir for inlet channel calculated using headloss is as follow:\n",
    "\n",
    "**W_SedInletChannelPreWeirMinHL = W_HorizChannel(Q_Plant, HW_SedInletChannelMax, HL_SedInletChannelMax, L_SedChannel,Nu_Water, E_concrete,0 ,0)**\n",
    "\n",
    "Here in this funtction, we compare the maximum head loss in inlet channel (HL_SedInletChannelMax) and 1/3 height of water in inlet channel (1/3 HW_SedInletChannelMax) and take the smaller value as the headloss for calculation of the channel width. 1/3 HW_SedInletChannelMax is derived from the calculation of critical flow, using Froude number, we get to the conclusion that ciritical depth y = 2/3 HW_SedInletChannelMax, which means delta H = 1/3 HW_SedInletChannelMax. Such constraint is aiming at making sure the flow in inlet channel is stable.\n",
    "\n",
    "The next step is to use loop to find the right answer for channel width. The equation is showed below."
   ]
  },
  {
   "cell_type": "code",
   "execution_count": 8,
   "metadata": {},
   "outputs": [
    {
     "name": "stdout",
     "output_type": "stream",
     "text": [
      "The minimum widthof the inlet channel pre weir via headloss is  56.21 centimeter\n"
     ]
    }
   ],
   "source": [
    "def W_HorizChannel(Q_Plant,HW_SedInletChannelMax,HL_SedInletChannelMax,L_SedChannel,Nu_Water, E_concrete,manifold,K):\n",
    "    # Delta H\n",
    "    HL_Local=min(HL_SedInletChannelMax,1/3*HW_SedInletChannelMax)\n",
    "    W_new=Q_Plant/((HW_SedInletChannelMax-HL_Local)*np.sqrt(2*pc.gravity*HL_Local))\n",
    "    error=1\n",
    "    i=0\n",
    "    while error>0.0001 and i<20:\n",
    "        W=W_new\n",
    "        i=i+1\n",
    "        term1=pc.fric_rect(Q_Plant, W, HW_SedInletChannelMax-HL_Local,Nu_Water, E_concrete, openchannel)\n",
    "        term2=L_SedChannel/(4*pc.radius_hydraulic(W,HW_SedInletChannelMax-HL_Local,openchannel))*(1-2*manifold/3)\n",
    "        term3=2*pc.gravity*HL_Local\n",
    "        term4=Q_Plant/(HW_SedInletChannelMax-HL_Local)\n",
    "        W_new=np.sqrt((1+K+term1*term2)/term3)*term4\n",
    "        error=np.abs(W_new-W)/(W_new-W)\n",
    "    return W_new\n",
    "#py2tex('W = Q/(H-DeltaH)- sqrt((1+f*(L/4*R_h))/2*g*(DeltaH))')\n",
    "\n",
    "\n",
    "# Minimum width calculated based on headloss\n",
    "Nu_Water = pc.viscosity_kinematic(T_design)\n",
    "Min_W_SedInletChannelPreWeirHL = (W_HorizChannel(Q_Plant,HW_SedInletChannelMax,HL_SedInletChannelMax,L_SedChannel,Nu_Water, E_Concrete,0,0)).to(u.inch)\n",
    "\n",
    "print('The minimum widthof the inlet channel pre weir via headloss is ',Min_W_SedInletChannelPreWeirHL.to(u.cm))\n",
    "\n",
    "\n"
   ]
  },
  {
   "cell_type": "markdown",
   "metadata": {},
   "source": [
    "## 1.6 The width of the inlet channel pre weir"
   ]
  },
  {
   "cell_type": "code",
   "execution_count": 9,
   "metadata": {},
   "outputs": [
    {
     "name": "stdout",
     "output_type": "stream",
     "text": [
      "The width of the inlet channel pre weir is  56.21 centimeter\n"
     ]
    }
   ],
   "source": [
    "#Now taking the maximum value of the width\n",
    "\n",
    "W_SedInletChannelPreWeir = max(Min_W_SedInletChannelWeir, Min_W_SedInletChannelPreWeirHL)\n",
    "print('The width of the inlet channel pre weir is ',W_SedInletChannelPreWeir.to(u.cm))"
   ]
  },
  {
   "cell_type": "markdown",
   "metadata": {},
   "source": [
    "## 1.7 The height of the water via plumbing"
   ]
  },
  {
   "cell_type": "code",
   "execution_count": 10,
   "metadata": {},
   "outputs": [
    {
     "name": "stdout",
     "output_type": "stream",
     "text": [
      "The height of the water via plumbing is  27.84 centimeter\n"
     ]
    }
   ],
   "source": [
    "#Now calculating the height of the water in sedimentation tank inlet using pipe ID\n",
    "HW_SedInlet_ChannelMinPlumbing= HL_SedLaunderBod + HL_SedDiffuser + pipe.OD(ND_SedLaunder) + S_Fitting +HL_SedWeirExit\n",
    "print('The height of the water via plumbing is ',HW_SedInlet_ChannelMinPlumbing)"
   ]
  },
  {
   "cell_type": "markdown",
   "metadata": {},
   "source": [
    "## 1.8 The height of the water via headloss\n"
   ]
  },
  {
   "cell_type": "code",
   "execution_count": 11,
   "metadata": {},
   "outputs": [
    {
     "name": "stdout",
     "output_type": "stream",
     "text": [
      "The height of water via headloss is  50.51 centimeter\n"
     ]
    }
   ],
   "source": [
    "#Now calculating the height of the water in sed tank inlet using headloss \n",
    "def H_HorizChannel(Q_Plant, W_SedInletChannelPreWeir,HL_SedInletChannel,L_SedChannel,Nu_Water,E_Concrete,manifold):\n",
    "    H_new=Q_Plant/(W_SedInletChannelPreWeir*np.sqrt(2*pc.gravity*HL_SedInletChannel))+HL_SedInletChannelMax\n",
    "    error=1\n",
    "    i=0\n",
    "    while error>0.001 and i<200:\n",
    "        H=H_new\n",
    "        HL_local=min(HL_SedInletChannelMax,1/3*H_new)\n",
    "        i=i+1\n",
    "        term1=Q_Plant/W_SedInletChannelPreWeir\n",
    "        term2=pc.fric_rect(Q_Plant,W_SedInletChannelPreWeir , H-HL_local,Nu_Water, E_Concrete, openchannel)\n",
    "        term3=L_SedChannel/(4*pc.radius_hydraulic(W_SedInletChannelPreWeir,H-HL_local,openchannel))*(1-2*manifold/3)\n",
    "        term4=2*pc.gravity*HL_local\n",
    "        H_new=term1*np.sqrt((1+term2*term3)/term4)+HL_local\n",
    "        error=np.abs(H_new-H)/(H_new+H)\n",
    "    return H_new\n",
    "\n",
    "HW_SedInletChannel_HL=H_HorizChannel(Q_Plant, W_SedInletChannelPreWeir,HL_SedInletChannelMax,L_SedChannel,Nu_Water,E_Concrete,0).to(u.inch) \n",
    "print('The height of water via headloss is ',HW_SedInletChannel_HL.to(u.cm))\n"
   ]
  },
  {
   "cell_type": "markdown",
   "metadata": {},
   "source": [
    "## 1.9 The height of the water"
   ]
  },
  {
   "cell_type": "code",
   "execution_count": 12,
   "metadata": {},
   "outputs": [
    {
     "name": "stdout",
     "output_type": "stream",
     "text": [
      "The height of the water is  50.51 centimeter\n"
     ]
    }
   ],
   "source": [
    "#Now taking the maximum value of the two height of water calcs \n",
    "HW_SedInletChannel= max( HW_SedInlet_ChannelMinPlumbing, HW_SedInletChannel_HL) \n",
    "print('The height of the water is ',HW_SedInletChannel.to(u.cm))"
   ]
  },
  {
   "cell_type": "markdown",
   "metadata": {},
   "source": [
    "## 1.10 The height of the inlet channel"
   ]
  },
  {
   "cell_type": "code",
   "execution_count": 13,
   "metadata": {},
   "outputs": [
    {
     "name": "stdout",
     "output_type": "stream",
     "text": [
      "The height of the inlet channel is  60.51 centimeter\n"
     ]
    }
   ],
   "source": [
    "#Now adding in the Height of plant freeboard \n",
    "H_SedInletChannel= HW_SedInletChannel + H_PlantFreeboard\n",
    "#py2tex('H_SedInletChannel= HW_SedInletChannel + H_PlantFreeboard')\n",
    "print('The height of the inlet channel is ',H_SedInletChannel.to(u.cm))"
   ]
  },
  {
   "cell_type": "markdown",
   "metadata": {},
   "source": [
    "## 1.11 The width of the inlet channel post weir"
   ]
  },
  {
   "cell_type": "code",
   "execution_count": 14,
   "metadata": {},
   "outputs": [
    {
     "name": "stdout",
     "output_type": "stream",
     "text": [
      "The width of the inlet channel post weir is  16.79 centimeter\n"
     ]
    }
   ],
   "source": [
    "# Finding the width of the post weir inlet channel by finding the maximum\n",
    "# Assuming the water level drops 1/3 of the height of the weir\n",
    "# The critical depth is 2/3 of the depth of the channel, allowing the water to drop 1/3.\n",
    "\n",
    "W_SedInletChannelPostWeir=max(W_ChannelMin,W_HorizChannel(Q_Plant,H_SedWeirInlet, H_SedWeirInlet,L_SedChannel,Nu_Water,E_Concrete,0,0))\n",
    "print('The width of the inlet channel post weir is ',W_SedInletChannelPostWeir.to(u.cm))"
   ]
  },
  {
   "cell_type": "markdown",
   "metadata": {},
   "source": [
    "## 1.12 The total width of the inlet channel"
   ]
  },
  {
   "cell_type": "code",
   "execution_count": 15,
   "metadata": {},
   "outputs": [
    {
     "name": "stdout",
     "output_type": "stream",
     "text": [
      "The total width of the inlet channel is 78 centimeter\n"
     ]
    }
   ],
   "source": [
    "#Total width of the inlet channels: summation of the width of inlet channel preweir and width of inlet channel post weir\n",
    "W_SedInletChannel=W_SedInletChannelPreWeir + T_SedWeir + W_SedInletChannelPostWeir\n",
    "print('The total width of the inlet channel is',W_SedInletChannel.to(u.cm))"
   ]
  },
  {
   "cell_type": "markdown",
   "metadata": {},
   "source": [
    "## 1.13 The velocity of water in the inlet channel\n"
   ]
  },
  {
   "cell_type": "code",
   "execution_count": 16,
   "metadata": {},
   "outputs": [
    {
     "name": "stdout",
     "output_type": "stream",
     "text": [
      "The velocity of the water in the inlet channel is  21.13 centimeter / second and meets the velocity constraint.\n"
     ]
    }
   ],
   "source": [
    "#The velocity of water in the inlet channel\n",
    "V_SedInletChannel= Q_Plant/(W_SedInletChannelPreWeir* HW_SedInletChannel)\n",
    "#py2tex('V_SedInletChannel= Q_Plant/(W_SedInletChannelPreWeir* HW_SedInletChannel)')\n",
    "\n",
    "if V_SedInletChannel>= 15*u.cm/u.s:\n",
    "    print('The velocity of the water in the inlet channel is ',V_SedInletChannel.to(u.cm/u.s),'and meets the velocity constraint.')\n",
    "    \n",
    "else:\n",
    "    print('The velocity of the water in the inlet channel is ',V_SedInletChannel.to(u.cm/u.s),'but does not meet the velocity constraint.')\n",
    "    \n",
    "\n"
   ]
  },
  {
   "cell_type": "markdown",
   "metadata": {},
   "source": [
    "## 1.14 The diameter of drain pipe\n"
   ]
  },
  {
   "cell_type": "code",
   "execution_count": 17,
   "metadata": {},
   "outputs": [
    {
     "name": "stdout",
     "output_type": "stream",
     "text": [
      "The diameter of the sedimentation drain pipe is  6 inch\n"
     ]
    }
   ],
   "source": [
    "# Here we create a function to calculate the nominal diameter\n",
    "def ND_pipeflow(Q,SDR,HeadLoss,Length,Nu,PipeRough,KMinor):\n",
    "    i=0\n",
    "    while Q>pc.flow_pipe(pipe.ID_SDR_all_available(SDR)[i],HeadLoss, Length, Nu, PipeRough, KMinor):\n",
    "        i=i+1\n",
    "    return pipe.ND_SDR_available(pipe.ID_SDR_all_available(SDR)[i],SDR)\n",
    "\n",
    "# The nominal diameter of the sed tank channel drain pipe\n",
    "ND_SedChannelDrain=ND_pipeflow(Q_Plant,SDR,HW_SedEst,HW_SedEst+W_SedInletChannel,Nu_Water,0,K_PipeEnt+K_PipeExit+K_E190)\n",
    "\n",
    "#Return the minimum ND that is available\n",
    "PS_SedChannelDrain=pipe.ND_available(ND_SedChannelDrain)\n",
    "\n",
    "print('The diameter of the sedimentation drain pipe is ',PS_SedChannelDrain.to(u.inch))\n"
   ]
  },
  {
   "cell_type": "markdown",
   "metadata": {},
   "source": [
    "## 1.15 The width of the inlet channel drain box"
   ]
  },
  {
   "cell_type": "code",
   "execution_count": 18,
   "metadata": {},
   "outputs": [
    {
     "name": "stdout",
     "output_type": "stream",
     "text": [
      "The width of the inlet channel drain box is 26.83 centimeter\n"
     ]
    }
   ],
   "source": [
    "# The width of drain box of the inlet channel\n",
    "W_SedInletChannelDrainBox=max(2*S_Fitting+pipe.OD(ND_SedChannelDrain),W_SedInletChannelPostWeir)\n",
    "print('The width of the inlet channel drain box is',W_SedInletChannelDrainBox.to(u.cm))"
   ]
  },
  {
   "cell_type": "markdown",
   "metadata": {},
   "source": [
    "# Step 2: Design of Exit Channel"
   ]
  },
  {
   "cell_type": "markdown",
   "metadata": {},
   "source": [
    "## 2.1 The height of the exit channel"
   ]
  },
  {
   "cell_type": "code",
   "execution_count": 19,
   "metadata": {},
   "outputs": [
    {
     "name": "stdout",
     "output_type": "stream",
     "text": [
      "The height of the exit channel is  60.51 centimeter\n"
     ]
    }
   ],
   "source": [
    "# The height of sedimentation tank outlet channel equals to the height of the inlet channel\n",
    "H_SedExitChannel=H_SedInletChannel\n",
    "#py2tex('H_SedExitChannel=H_SedInletChannel')\n",
    "print('The height of the exit channel is ',H_SedExitChannel.to(u.cm))"
   ]
  },
  {
   "cell_type": "markdown",
   "metadata": {},
   "source": [
    "## 2.2 The water level in exit channel and the exit weir"
   ]
  },
  {
   "cell_type": "code",
   "execution_count": 20,
   "metadata": {
    "scrolled": true
   },
   "outputs": [
    {
     "name": "stdout",
     "output_type": "stream",
     "text": [
      "The height of water in the exit channel is  46.41 centimeter\n",
      "The height of water of the exit weir is  42.5 centimeter\n"
     ]
    }
   ],
   "source": [
    "# The water depth of the sedimentation tank exit channel\n",
    "HW_SedExitChannel=HW_SedInletChannel-HL_SedLaunderBod-HL_SedDiffuser\n",
    "#py2tex('HW_SedExitChannel=HW_SedInletChannel-HL_SedLaunderBod-HL_SedDiffuser')\n",
    "print('The height of water in the exit channel is ',HW_SedExitChannel.to(u.cm))\n",
    "\n",
    "# The water depth of the sedimentation tank exit weir\n",
    "HW_SedWeirExit=HW_SedExitChannel-HL_SedWeirExit-HL_SedWeirFreeboard\n",
    "#py2tex('HW_SedWeirExit=HW_SedExitChannel-HL_SedWeirExit-HL_SedWeirFreeboard')\n",
    "print('The height of water of the exit weir is ',HW_SedWeirExit.to(u.cm))"
   ]
  },
  {
   "cell_type": "markdown",
   "metadata": {},
   "source": [
    "## 2.3 The width of the exit channel pre weir"
   ]
  },
  {
   "cell_type": "code",
   "execution_count": 21,
   "metadata": {},
   "outputs": [
    {
     "name": "stdout",
     "output_type": "stream",
     "text": [
      "The width of the exit channel pre weir is  15 centimeter\n"
     ]
    }
   ],
   "source": [
    "# The width of the exit channel before the weir equals to the minimum width of the exit channel to allow person to cap launder\n",
    "W_SedExitChannelPreWeir=W_ChannelMin\n",
    "#py2tex('W_SedExitChannelPreWeir=W_ChannelMin')\n",
    "print('The width of the exit channel pre weir is ',W_SedExitChannelPreWeir.to(u.cm))"
   ]
  },
  {
   "cell_type": "markdown",
   "metadata": {},
   "source": [
    "## 2.4 The width of the exit channel post weir"
   ]
  },
  {
   "cell_type": "code",
   "execution_count": 22,
   "metadata": {
    "scrolled": true
   },
   "outputs": [
    {
     "name": "stdout",
     "output_type": "stream",
     "text": [
      "The width of the exit channel post weir  26.91 centimeter\n"
     ]
    }
   ],
   "source": [
    "# The width of the exit channel after the weir \n",
    "W_SedExitChannelPostWeir=max(S_Fitting+pipe.OD(ND_SedToFiPipe),S_Fitting+pipe.OD(ND_SedChannelDrain),W_ChannelMin,W_HorizChannel(Q_Plant,HW_SedWeirExit-H_SedExitFree,HW_SedWeirExit,L_SedChannel,Nu_Water,E_Concrete,1,K))\n",
    "print('The width of the exit channel post weir ',W_SedExitChannelPostWeir.to(u.cm))"
   ]
  },
  {
   "cell_type": "markdown",
   "metadata": {},
   "source": [
    "## 2.5 The total width of the exit channel"
   ]
  },
  {
   "cell_type": "code",
   "execution_count": 23,
   "metadata": {},
   "outputs": [
    {
     "name": "stdout",
     "output_type": "stream",
     "text": [
      "The total width of the exit channel is  46.91 centimeter\n"
     ]
    }
   ],
   "source": [
    "# The width of the exit channel\n",
    "W_SedExitChannel=W_SedExitChannelPreWeir+T_SedWeir+W_SedExitChannelPostWeir\n",
    "#py2tex('W_SedExitChannel=W_SedExitChannelPreWeir+T_SedWeir+W_SedExitChannelPostWeir')\n",
    "print('The total width of the exit channel is ',W_SedExitChannel.to(u.cm))"
   ]
  },
  {
   "cell_type": "markdown",
   "metadata": {},
   "source": [
    "## 2.6 The width of the exit channel drain box"
   ]
  },
  {
   "cell_type": "code",
   "execution_count": 24,
   "metadata": {},
   "outputs": [
    {
     "name": "stdout",
     "output_type": "stream",
     "text": [
      "The width of the exit channel drain box is  26.91 centimeter\n"
     ]
    }
   ],
   "source": [
    "# The width of the exit channel drain box\n",
    "W_SedExitChannelDrainBox=max(S_Fitting+pipe.OD(ND_SedChannelDrain),W_SedExitChannelPostWeir)\n",
    "print('The width of the exit channel drain box is ',W_SedExitChannelDrainBox.to(u.cm))"
   ]
  },
  {
   "cell_type": "markdown",
   "metadata": {},
   "source": [
    "## 3.0 References \n",
    "\n",
    "* MathCAD Sedimentation Tank Design Code \n",
    "* Monroe Weber-Shirk. Open Channel Flow Notes. "
   ]
  }
 ],
 "metadata": {
  "kernelspec": {
   "display_name": "Python 3",
   "language": "python",
   "name": "python3"
  },
  "language_info": {
   "codemirror_mode": {
    "name": "ipython",
    "version": 3
   },
   "file_extension": ".py",
   "mimetype": "text/x-python",
   "name": "python",
   "nbconvert_exporter": "python",
   "pygments_lexer": "ipython3",
   "version": "3.6.3"
  }
 },
 "nbformat": 4,
 "nbformat_minor": 2
}
